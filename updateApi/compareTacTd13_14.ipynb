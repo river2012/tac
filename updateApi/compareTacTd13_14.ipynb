{
 "cells": [
  {
   "cell_type": "markdown",
   "metadata": {},
   "source": [
    "### Compare tacTd13 和 tacTd14 三个头文件的版本差异"
   ]
  },
  {
   "cell_type": "markdown",
   "metadata": {},
   "source": [
    "#### part1"
   ]
  },
  {
   "cell_type": "code",
   "execution_count": 37,
   "metadata": {
    "code_folding": [
     7
    ]
   },
   "outputs": [],
   "source": [
    "# 云端文件不好找，复制一份到/Downloads\n",
    "path13 = '/Users/qiuhuisong/Downloads/tacmars_api_v1.3.1/include/'\n",
    "path14 = '/Users/qiuhuisong/Downloads/tacmars_api_v1.4.1/include/'\n",
    "f_input1 = 'TacFtdcTraderApi.h'\n",
    "f_input2 = 'TacFtdcUserApiDataType.h'\n",
    "f_input3 = 'TacFtdcUserApiStruct.h'\n",
    "\n",
    "def loadFiles(path,f_input):\n",
    "    '''将h文件加载并产生h文件'''\n",
    "    with open(path + f_input) as f: \n",
    "        f_output = []\n",
    "        for line in f:\n",
    "            f_output.append(line)\n",
    "        \n",
    "        return f_output"
   ]
  },
  {
   "cell_type": "code",
   "execution_count": 38,
   "metadata": {},
   "outputs": [],
   "source": [
    "# 批量导入生成list文件\n",
    "f13_api      = loadFiles(path13,f_input1)\n",
    "f13_dataType = loadFiles(path13,f_input2)\n",
    "f13_struct   = loadFiles(path13,f_input3)\n",
    "\n",
    "f14_api      = loadFiles(path14,f_input1)\n",
    "f14_dataType = loadFiles(path14,f_input2)\n",
    "f14_struct   = loadFiles(path14,f_input3)"
   ]
  },
  {
   "cell_type": "markdown",
   "metadata": {},
   "source": [
    "#### part2"
   ]
  },
  {
   "cell_type": "code",
   "execution_count": 47,
   "metadata": {
    "code_folding": []
   },
   "outputs": [],
   "source": [
    "# f_compare  = f14_api\n",
    "# f_to       = f13_api\n",
    "def compareFiles(f_compare,f_to):\n",
    "    '''用来比较各个文本的差异'''\n",
    "    for k,line in enumerate(f_compare):\n",
    "        if line not in f_to:\n",
    "            print(k,line)   "
   ]
  },
  {
   "cell_type": "code",
   "execution_count": 48,
   "metadata": {},
   "outputs": [
    {
     "name": "stdout",
     "output_type": "stream",
     "text": [
      "5 ///@version     1.3 \n",
      "\n",
      "121     ///获取下一个报单引用\n",
      "\n",
      "122     ///客户端不能简单的加1来维护本地的OrderRef，必须使用本方法。\n",
      "\n",
      "123     virtual uint64_t GetNextOrderRef() = 0 ;\n",
      "\n"
     ]
    }
   ],
   "source": [
    "compareFiles(f13_api,f14_api)"
   ]
  },
  {
   "cell_type": "code",
   "execution_count": 49,
   "metadata": {},
   "outputs": [
    {
     "name": "stdout",
     "output_type": "stream",
     "text": [
      "5 ///@version     1.4 \n",
      "\n",
      "39     ///App认证应答\n",
      "\n",
      "40     virtual void OnRspAuthenticate(CTacFtdcRspAuthenticateField *pRspAuthenticate, CTacFtdcRspInfoField *pRspInfo, int nRequestID, bool bIsLast) {};\n",
      "\n",
      "124     ///App认证请求\n",
      "\n",
      "125     virtual int ReqAuthenticate(CTacFtdcAuthenticateField *pAuthenticate, int nRequestID) = 0;\n",
      "\n"
     ]
    }
   ],
   "source": [
    "compareFiles(f14_api,f13_api)"
   ]
  },
  {
   "cell_type": "code",
   "execution_count": 50,
   "metadata": {},
   "outputs": [
    {
     "name": "stdout",
     "output_type": "stream",
     "text": [
      "5 ///@version     1.3 \n",
      "\n"
     ]
    }
   ],
   "source": [
    "compareFiles(f13_dataType,f14_dataType)"
   ]
  },
  {
   "cell_type": "code",
   "execution_count": 51,
   "metadata": {},
   "outputs": [
    {
     "name": "stdout",
     "output_type": "stream",
     "text": [
      "5 ///@version     1.4 \n",
      "\n",
      "440 ///TTacFtdcAppIDType是一个备案AppID类型\n",
      "\n",
      "442 typedef char TTacFtdcAppIDType[30];\n",
      "\n",
      "445 ///TTacFtdcAuthCodeType是一个App登录授权码类型\n",
      "\n",
      "447 typedef char TTacFtdcAuthCodeType[16];\n",
      "\n"
     ]
    }
   ],
   "source": [
    "compareFiles(f14_dataType,f13_dataType)"
   ]
  },
  {
   "cell_type": "code",
   "execution_count": 52,
   "metadata": {},
   "outputs": [
    {
     "name": "stdout",
     "output_type": "stream",
     "text": [
      "5 ///@version     1.3 \n",
      "\n"
     ]
    }
   ],
   "source": [
    "compareFiles(f13_struct,f14_struct)"
   ]
  },
  {
   "cell_type": "code",
   "execution_count": 53,
   "metadata": {},
   "outputs": [
    {
     "name": "stdout",
     "output_type": "stream",
     "text": [
      "5 ///@version     1.4 \n",
      "\n",
      "26 ///App认证请求\n",
      "\n",
      "27 struct CTacFtdcAuthenticateField\n",
      "\n",
      "29     ///AppID\n",
      "\n",
      "30     TTacFtdcAppIDType           AppID;\n",
      "\n",
      "31     ///授权码\n",
      "\n",
      "32     TTacFtdcAuthCodeType        AuthCode;\n",
      "\n",
      "35 ///App认证应答\n",
      "\n",
      "36 struct CTacFtdcRspAuthenticateField\n",
      "\n",
      "38     ///AppID\n",
      "\n",
      "39     TTacFtdcAppIDType           AppID;\n",
      "\n"
     ]
    }
   ],
   "source": [
    "compareFiles(f14_struct,f13_struct)"
   ]
  },
  {
   "cell_type": "code",
   "execution_count": null,
   "metadata": {},
   "outputs": [],
   "source": []
  }
 ],
 "metadata": {
  "kernelspec": {
   "display_name": "Python 3",
   "language": "python",
   "name": "python3"
  },
  "language_info": {
   "codemirror_mode": {
    "name": "ipython",
    "version": 3
   },
   "file_extension": ".py",
   "mimetype": "text/x-python",
   "name": "python",
   "nbconvert_exporter": "python",
   "pygments_lexer": "ipython3",
   "version": "3.7.2"
  }
 },
 "nbformat": 4,
 "nbformat_minor": 2
}
