{
 "cells": [
  {
   "cell_type": "markdown",
   "metadata": {},
   "source": [
    "### Compare tacTd13 和 tacTd14 三个头文件的版本差异"
   ]
  },
  {
   "cell_type": "markdown",
   "metadata": {},
   "source": [
    "#### functions"
   ]
  },
  {
   "cell_type": "code",
   "execution_count": 1,
   "metadata": {
    "code_folding": [
     7
    ]
   },
   "outputs": [],
   "source": [
    "# 导入h文件\n",
    "def loadFiles(path,f_input):\n",
    "    '''将h文件加载并产生h文件'''\n",
    "    with open(path + f_input) as f: \n",
    "        f_output = []\n",
    "        for line in f:\n",
    "            f_output.append(line)\n",
    "        \n",
    "        return f_output"
   ]
  },
  {
   "cell_type": "code",
   "execution_count": 2,
   "metadata": {
    "code_folding": []
   },
   "outputs": [],
   "source": [
    "# f_compare  = f14_api\n",
    "# f_to       = f13_api\n",
    "def compareFiles(f_compare,f_to):\n",
    "    '''用来比较各个文本的差异'''\n",
    "    for k,line in enumerate(f_compare):\n",
    "        if line not in f_to:\n",
    "            print(k,line)   "
   ]
  },
  {
   "cell_type": "markdown",
   "metadata": {},
   "source": [
    "### 应用4.比较tac_td_header/source v14 和 tac_td_header/source v13"
   ]
  },
  {
   "cell_type": "code",
   "execution_count": 13,
   "metadata": {
    "code_folding": [
     0
    ]
   },
   "outputs": [],
   "source": [
    "##批量导入\n",
    "f13_header_define   = loadFiles('/Users/qiuhuisong/Downloads/tac_td_headerSource_v13/','tac_td_header_define.h')\n",
    "f13_header_function = loadFiles('/Users/qiuhuisong/Downloads/tac_td_headerSource_v13/','tac_td_header_function.h')\n",
    "f13_header_on       = loadFiles('/Users/qiuhuisong/Downloads/tac_td_headerSource_v13/','tac_td_header_on.h')\n",
    "f13_header_process  = loadFiles('/Users/qiuhuisong/Downloads/tac_td_headerSource_v13/','tac_td_header_process.h')\n",
    "\n",
    "f13_source_function = loadFiles('/Users/qiuhuisong/Downloads/tac_td_headerSource_v13/','tac_td_source_function.cpp')\n",
    "f13_source_module   = loadFiles('/Users/qiuhuisong/Downloads/tac_td_headerSource_v13/','tac_td_source_module.cpp')\n",
    "f13_source_on       = loadFiles('/Users/qiuhuisong/Downloads/tac_td_headerSource_v13/','tac_td_source_on.cpp')\n",
    "f13_source_process  = loadFiles('/Users/qiuhuisong/Downloads/tac_td_headerSource_v13/','tac_td_source_process.cpp')\n",
    "f13_source_switch   = loadFiles('/Users/qiuhuisong/Downloads/tac_td_headerSource_v13/','tac_td_source_switch.cpp')\n",
    "f13_source_task     = loadFiles('/Users/qiuhuisong/Downloads/tac_td_headerSource_v13/','tac_td_source_task.cpp')\n",
    "\n",
    "f14_header_define   = loadFiles('/Users/qiuhuisong/Downloads/','tac_td_header_define.h')\n",
    "f14_header_function = loadFiles('/Users/qiuhuisong/Downloads/','tac_td_header_function.h')\n",
    "f14_header_on       = loadFiles('/Users/qiuhuisong/Downloads/','tac_td_header_on.h')\n",
    "f14_header_process  = loadFiles('/Users/qiuhuisong/Downloads/','tac_td_header_process.h')\n",
    "\n",
    "f14_source_function = loadFiles('/Users/qiuhuisong/Downloads/','tac_td_source_function.cpp')\n",
    "f14_source_module   = loadFiles('/Users/qiuhuisong/Downloads/','tac_td_source_module.cpp')\n",
    "f14_source_on       = loadFiles('/Users/qiuhuisong/Downloads/','tac_td_source_on.cpp')\n",
    "f14_source_process  = loadFiles('/Users/qiuhuisong/Downloads/','tac_td_source_process.cpp')\n",
    "f14_source_switch   = loadFiles('/Users/qiuhuisong/Downloads/','tac_td_source_switch.cpp')\n",
    "f14_source_task     = loadFiles('/Users/qiuhuisong/Downloads/','tac_td_source_task.cpp')"
   ]
  },
  {
   "cell_type": "code",
   "execution_count": 28,
   "metadata": {
    "scrolled": true
   },
   "outputs": [
    {
     "name": "stdout",
     "output_type": "stream",
     "text": [
      "3 #define ONRSPUSERLOGIN 3\n",
      "\n",
      "4 #define ONRSPUSERLOGOUT 4\n",
      "\n",
      "5 #define ONRSPORDERINSERT 5\n",
      "\n",
      "6 #define ONRSPORDERACTION 6\n",
      "\n",
      "7 #define ONRTNORDER 7\n",
      "\n",
      "8 #define ONRTNTRADE 8\n",
      "\n",
      "9 #define ONRSPQRYINSTRUMENT 9\n",
      "\n",
      "10 #define ONRSPQRYACCOUNT 10\n",
      "\n",
      "11 #define ONRSPQRYPOSITION 11\n",
      "\n",
      "--------------------------------------------\n",
      "3 #define ONRSPAUTHENTICATE 3\n",
      "\n",
      "4 #define ONRSPUSERLOGIN 4\n",
      "\n",
      "5 #define ONRSPUSERLOGOUT 5\n",
      "\n",
      "6 #define ONRSPORDERINSERT 6\n",
      "\n",
      "7 #define ONRSPORDERACTION 7\n",
      "\n",
      "8 #define ONRTNORDER 8\n",
      "\n",
      "9 #define ONRTNTRADE 9\n",
      "\n",
      "10 #define ONRSPQRYINSTRUMENT 10\n",
      "\n",
      "11 #define ONRSPQRYACCOUNT 11\n",
      "\n",
      "12 #define ONRSPQRYPOSITION 12\n",
      "\n"
     ]
    }
   ],
   "source": [
    "compareFiles(f13_header_define,f14_header_define)\n",
    "print('--------------------------------------------')\n",
    "compareFiles(f14_header_define,f13_header_define)"
   ]
  },
  {
   "cell_type": "code",
   "execution_count": 29,
   "metadata": {},
   "outputs": [
    {
     "name": "stdout",
     "output_type": "stream",
     "text": [
      "--------------------------------------------\n",
      "0 int reqAuthenticate(const dict &req, int reqid);\n",
      "\n"
     ]
    }
   ],
   "source": [
    "compareFiles(f13_header_function,f14_header_function)\n",
    "print('--------------------------------------------')\n",
    "compareFiles(f14_header_function,f13_header_function)"
   ]
  },
  {
   "cell_type": "code",
   "execution_count": 30,
   "metadata": {},
   "outputs": [
    {
     "name": "stdout",
     "output_type": "stream",
     "text": [
      "--------------------------------------------\n",
      "6 virtual void onRspAuthenticate(const dict &data, const dict &error, int reqid, bool last) {};\n",
      "\n"
     ]
    }
   ],
   "source": [
    "compareFiles(f13_header_on,f14_header_on)\n",
    "print('--------------------------------------------')\n",
    "compareFiles(f14_header_on,f13_header_on)"
   ]
  },
  {
   "cell_type": "code",
   "execution_count": 31,
   "metadata": {},
   "outputs": [
    {
     "name": "stdout",
     "output_type": "stream",
     "text": [
      "--------------------------------------------\n",
      "6 void processRspAuthenticate(Task *task);\n",
      "\n"
     ]
    }
   ],
   "source": [
    "compareFiles(f13_header_process,f14_header_process)\n",
    "print('--------------------------------------------')\n",
    "compareFiles(f14_header_process,f13_header_process)"
   ]
  },
  {
   "cell_type": "code",
   "execution_count": 22,
   "metadata": {},
   "outputs": [
    {
     "name": "stdout",
     "output_type": "stream",
     "text": [
      "--------------------------------------------\n",
      "0 int TdApi::reqAuthenticate(const dict &req, int reqid)\n",
      "\n",
      "2 \tCTacFtdcAuthenticateField myreq = CTacFtdcAuthenticateField();\n",
      "\n",
      "4 \tgetString(req, \"AppID\", myreq.AppID);\n",
      "\n",
      "5 \tgetString(req, \"AuthCode\", myreq.AuthCode);\n",
      "\n",
      "6 \tint i = this->api->ReqAuthenticate(&myreq, reqid);\n",
      "\n"
     ]
    }
   ],
   "source": [
    "compareFiles(f13_source_function,f14_source_function)\n",
    "print('--------------------------------------------')\n",
    "compareFiles(f14_source_function,f13_source_function)"
   ]
  },
  {
   "cell_type": "code",
   "execution_count": 23,
   "metadata": {},
   "outputs": [
    {
     "name": "stdout",
     "output_type": "stream",
     "text": [
      "--------------------------------------------\n",
      "0 .def(\"reqAuthenticate\", &TdApi::reqAuthenticate)\n",
      "\n",
      "12 .def(\"onRspAuthenticate\", &TdApi::onRspAuthenticate)\n",
      "\n"
     ]
    }
   ],
   "source": [
    "compareFiles(f13_source_module,f14_source_module)\n",
    "print('--------------------------------------------')\n",
    "compareFiles(f14_source_module,f13_source_module)"
   ]
  },
  {
   "cell_type": "code",
   "execution_count": 24,
   "metadata": {},
   "outputs": [
    {
     "name": "stdout",
     "output_type": "stream",
     "text": [
      "--------------------------------------------\n",
      "36 void onRspAuthenticate(const dict &data, const dict &error, int reqid, bool last) override\n",
      "\n",
      "40 \t\tPYBIND11_OVERLOAD(void, TdApi, onRspAuthenticate, data, error, reqid, last);\n",
      "\n"
     ]
    }
   ],
   "source": [
    "compareFiles(f13_source_on,f14_source_on)\n",
    "print('--------------------------------------------')\n",
    "compareFiles(f14_source_on,f13_source_on)"
   ]
  },
  {
   "cell_type": "code",
   "execution_count": 25,
   "metadata": {},
   "outputs": [
    {
     "name": "stdout",
     "output_type": "stream",
     "text": [
      "--------------------------------------------\n",
      "26 void TdApi::processRspAuthenticate(Task *task)\n",
      "\n",
      "32 \t\tCTacFtdcRspAuthenticateField *task_data = (CTacFtdcRspAuthenticateField*)task->task_data;\n",
      "\n",
      "33 \t\tdata[\"AppID\"] = toUtf(task_data->AppID);\n",
      "\n",
      "44 \tthis->onRspAuthenticate(data, error, task->task_id, task->task_last);\n",
      "\n"
     ]
    }
   ],
   "source": [
    "compareFiles(f13_source_process,f14_source_process)\n",
    "print('--------------------------------------------')\n",
    "compareFiles(f14_source_process,f13_source_process)"
   ]
  },
  {
   "cell_type": "code",
   "execution_count": 26,
   "metadata": {},
   "outputs": [
    {
     "name": "stdout",
     "output_type": "stream",
     "text": [
      "--------------------------------------------\n",
      "18 case ONRSPAUTHENTICATE:\n",
      "\n",
      "20 \tthis->processRspAuthenticate(&task);\n",
      "\n"
     ]
    }
   ],
   "source": [
    "compareFiles(f13_source_switch,f14_source_switch)\n",
    "print('--------------------------------------------')\n",
    "compareFiles(f14_source_switch,f13_source_switch)"
   ]
  },
  {
   "cell_type": "code",
   "execution_count": 27,
   "metadata": {},
   "outputs": [
    {
     "name": "stdout",
     "output_type": "stream",
     "text": [
      "--------------------------------------------\n",
      "30     void TdApi::OnRspAuthenticate(CTacFtdcRspAuthenticateField *pRspAuthenticate, CTacFtdcRspInfoField *pRspInfo, int nRequestID, bool bIsLast) \n",
      "\n",
      "33 \ttask.task_name = ONRSPAUTHENTICATE;\n",
      "\n",
      "34 \tif (pRspAuthenticate)\n",
      "\n",
      "36 \t\tCTacFtdcRspAuthenticateField *task_data = new CTacFtdcRspAuthenticateField();\n",
      "\n",
      "37 \t\t*task_data = *pRspAuthenticate;\n",
      "\n"
     ]
    }
   ],
   "source": [
    "compareFiles(f13_source_task,f14_source_task)\n",
    "print('--------------------------------------------')\n",
    "compareFiles(f14_source_task,f13_source_task)"
   ]
  },
  {
   "cell_type": "markdown",
   "metadata": {},
   "source": [
    "### 应用3.比较tac_struct.py 14 和 tac_struct_td_v13.py"
   ]
  },
  {
   "cell_type": "code",
   "execution_count": 8,
   "metadata": {},
   "outputs": [],
   "source": [
    "f13 = loadFiles('/Users/qiuhuisong/Downloads/','tac_struct_td_v13.py')\n",
    "f14 = loadFiles('/Users/qiuhuisong/Downloads/','tac_struct.py')"
   ]
  },
  {
   "cell_type": "code",
   "execution_count": 9,
   "metadata": {},
   "outputs": [],
   "source": [
    "compareFiles(f13,f14)"
   ]
  },
  {
   "cell_type": "code",
   "execution_count": 10,
   "metadata": {},
   "outputs": [
    {
     "name": "stdout",
     "output_type": "stream",
     "text": [
      "5 CTacFtdcAuthenticateField = {\n",
      "\n",
      "6     \"AppID\": \"string\",\n",
      "\n",
      "7     \"AuthCode\": \"string\",\n",
      "\n",
      "10 CTacFtdcRspAuthenticateField = {\n",
      "\n",
      "11     \"AppID\": \"string\",\n",
      "\n"
     ]
    }
   ],
   "source": [
    "compareFiles(f14,f13)"
   ]
  },
  {
   "cell_type": "markdown",
   "metadata": {},
   "source": [
    "### 应用2. 比较tac_constant.py  v14 和tac_constant_td_v13.py"
   ]
  },
  {
   "cell_type": "code",
   "execution_count": 4,
   "metadata": {},
   "outputs": [],
   "source": [
    "f13 = loadFiles('/Users/qiuhuisong/Downloads/','tac_constant_td_v13.py')\n",
    "f14 = loadFiles('/Users/qiuhuisong/Downloads/','tac_constant.py')"
   ]
  },
  {
   "cell_type": "code",
   "execution_count": 5,
   "metadata": {},
   "outputs": [],
   "source": [
    "compareFiles(f13,f14)"
   ]
  },
  {
   "cell_type": "code",
   "execution_count": 6,
   "metadata": {},
   "outputs": [],
   "source": [
    "compareFiles(f14,f13)"
   ]
  },
  {
   "cell_type": "markdown",
   "metadata": {},
   "source": [
    "### 应用1. 比较td三个h文件差别"
   ]
  },
  {
   "cell_type": "code",
   "execution_count": 38,
   "metadata": {},
   "outputs": [],
   "source": [
    "# 批量导入生成list文件\n",
    "# 云端文件不好找，复制一份到/Downloads\n",
    "path13 = '/Users/qiuhuisong/Downloads/tacmars_api_v1.3.1/include/'\n",
    "path14 = '/Users/qiuhuisong/Downloads/tacmars_api_v1.4.1/include/'\n",
    "f_input1 = 'TacFtdcTraderApi.h'\n",
    "f_input2 = 'TacFtdcUserApiDataType.h'\n",
    "f_input3 = 'TacFtdcUserApiStruct.h'\n",
    "\n",
    "\n",
    "f13_api      = loadFiles(path13,f_input1)\n",
    "f13_dataType = loadFiles(path13,f_input2)\n",
    "f13_struct   = loadFiles(path13,f_input3)\n",
    "\n",
    "f14_api      = loadFiles(path14,f_input1)\n",
    "f14_dataType = loadFiles(path14,f_input2)\n",
    "f14_struct   = loadFiles(path14,f_input3)"
   ]
  },
  {
   "cell_type": "code",
   "execution_count": 48,
   "metadata": {
    "collapsed": true
   },
   "outputs": [
    {
     "name": "stdout",
     "output_type": "stream",
     "text": [
      "5 ///@version     1.3 \n",
      "\n",
      "121     ///获取下一个报单引用\n",
      "\n",
      "122     ///客户端不能简单的加1来维护本地的OrderRef，必须使用本方法。\n",
      "\n",
      "123     virtual uint64_t GetNextOrderRef() = 0 ;\n",
      "\n"
     ]
    }
   ],
   "source": [
    "compareFiles(f13_api,f14_api)"
   ]
  },
  {
   "cell_type": "code",
   "execution_count": 49,
   "metadata": {
    "collapsed": true
   },
   "outputs": [
    {
     "name": "stdout",
     "output_type": "stream",
     "text": [
      "5 ///@version     1.4 \n",
      "\n",
      "39     ///App认证应答\n",
      "\n",
      "40     virtual void OnRspAuthenticate(CTacFtdcRspAuthenticateField *pRspAuthenticate, CTacFtdcRspInfoField *pRspInfo, int nRequestID, bool bIsLast) {};\n",
      "\n",
      "124     ///App认证请求\n",
      "\n",
      "125     virtual int ReqAuthenticate(CTacFtdcAuthenticateField *pAuthenticate, int nRequestID) = 0;\n",
      "\n"
     ]
    }
   ],
   "source": [
    "compareFiles(f14_api,f13_api)"
   ]
  },
  {
   "cell_type": "code",
   "execution_count": 50,
   "metadata": {},
   "outputs": [
    {
     "name": "stdout",
     "output_type": "stream",
     "text": [
      "5 ///@version     1.3 \n",
      "\n"
     ]
    }
   ],
   "source": [
    "compareFiles(f13_dataType,f14_dataType)"
   ]
  },
  {
   "cell_type": "code",
   "execution_count": 51,
   "metadata": {},
   "outputs": [
    {
     "name": "stdout",
     "output_type": "stream",
     "text": [
      "5 ///@version     1.4 \n",
      "\n",
      "440 ///TTacFtdcAppIDType是一个备案AppID类型\n",
      "\n",
      "442 typedef char TTacFtdcAppIDType[30];\n",
      "\n",
      "445 ///TTacFtdcAuthCodeType是一个App登录授权码类型\n",
      "\n",
      "447 typedef char TTacFtdcAuthCodeType[16];\n",
      "\n"
     ]
    }
   ],
   "source": [
    "compareFiles(f14_dataType,f13_dataType)"
   ]
  },
  {
   "cell_type": "code",
   "execution_count": 52,
   "metadata": {},
   "outputs": [
    {
     "name": "stdout",
     "output_type": "stream",
     "text": [
      "5 ///@version     1.3 \n",
      "\n"
     ]
    }
   ],
   "source": [
    "compareFiles(f13_struct,f14_struct)"
   ]
  },
  {
   "cell_type": "code",
   "execution_count": 53,
   "metadata": {},
   "outputs": [
    {
     "name": "stdout",
     "output_type": "stream",
     "text": [
      "5 ///@version     1.4 \n",
      "\n",
      "26 ///App认证请求\n",
      "\n",
      "27 struct CTacFtdcAuthenticateField\n",
      "\n",
      "29     ///AppID\n",
      "\n",
      "30     TTacFtdcAppIDType           AppID;\n",
      "\n",
      "31     ///授权码\n",
      "\n",
      "32     TTacFtdcAuthCodeType        AuthCode;\n",
      "\n",
      "35 ///App认证应答\n",
      "\n",
      "36 struct CTacFtdcRspAuthenticateField\n",
      "\n",
      "38     ///AppID\n",
      "\n",
      "39     TTacFtdcAppIDType           AppID;\n",
      "\n"
     ]
    }
   ],
   "source": [
    "compareFiles(f14_struct,f13_struct)"
   ]
  },
  {
   "cell_type": "code",
   "execution_count": null,
   "metadata": {},
   "outputs": [],
   "source": []
  }
 ],
 "metadata": {
  "kernelspec": {
   "display_name": "Python 3",
   "language": "python",
   "name": "python3"
  },
  "language_info": {
   "codemirror_mode": {
    "name": "ipython",
    "version": 3
   },
   "file_extension": ".py",
   "mimetype": "text/x-python",
   "name": "python",
   "nbconvert_exporter": "python",
   "pygments_lexer": "ipython3",
   "version": "3.7.2"
  }
 },
 "nbformat": 4,
 "nbformat_minor": 2
}
