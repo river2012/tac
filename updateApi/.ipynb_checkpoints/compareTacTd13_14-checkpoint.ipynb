{
 "cells": [
  {
   "cell_type": "markdown",
   "metadata": {},
   "source": [
    "### Compare tacTd13 和 tacTd14 三个头文件的版本差异"
   ]
  },
  {
   "cell_type": "code",
   "execution_count": 37,
   "metadata": {
    "code_folding": []
   },
   "outputs": [],
   "source": [
    "# 云端文件不好找，复制一份到/Downloads\n",
    "path13 = '/Users/qiuhuisong/Downloads/tacmars_api_v1.3.1/include/'\n",
    "path14 = '/Users/qiuhuisong/Downloads/tacmars_api_v1.4.1/include/'\n",
    "f_input1 = 'TacFtdcTraderApi.h'\n",
    "f_input2 = 'TacFtdcUserApiDataType.h'\n",
    "f_input3 = 'TacFtdcUserApiStruct.h'\n",
    "\n",
    "def loadFiles(path,f_input):\n",
    "    '''将h文件加载并产生h文件'''\n",
    "    with open(path + f_input) as f: \n",
    "        f_output = []\n",
    "        for line in f:\n",
    "            f_output.append(line)\n",
    "        \n",
    "        return f_output"
   ]
  },
  {
   "cell_type": "code",
   "execution_count": 38,
   "metadata": {},
   "outputs": [],
   "source": [
    "# 批量导入生成list文件\n",
    "f13_api      = loadFiles(path13,f_input1)\n",
    "f13_dataType = loadFiles(path13,f_input2)\n",
    "f13_struct   = loadFiles(path13,f_input3)\n",
    "\n",
    "f14_api      = loadFiles(path14,f_input1)\n",
    "f14_dataType = loadFiles(path14,f_input2)\n",
    "f14_struct   = loadFiles(path14,f_input3)"
   ]
  },
  {
   "cell_type": "code",
   "execution_count": 47,
   "metadata": {},
   "outputs": [],
   "source": [
    "# f_compare  = f14_api\n",
    "# f_to       = f13_api\n",
    "def compareFiles(f_compare,f_to):\n",
    "    '''用来比较各个文本的差异'''\n",
    "    for k,line in enumerate(f_compare):\n",
    "        if line not in f_to:\n",
    "            print(k,line)   "
   ]
  },
  {
   "cell_type": "code",
   "execution_count": null,
   "metadata": {},
   "outputs": [],
   "source": [
    "compareFiles(f13_api,f13_api)"
   ]
  },
  {
   "cell_type": "code",
   "execution_count": null,
   "metadata": {},
   "outputs": [],
   "source": []
  }
 ],
 "metadata": {
  "kernelspec": {
   "display_name": "Python 3",
   "language": "python",
   "name": "python3"
  },
  "language_info": {
   "codemirror_mode": {
    "name": "ipython",
    "version": 3
   },
   "file_extension": ".py",
   "mimetype": "text/x-python",
   "name": "python",
   "nbconvert_exporter": "python",
   "pygments_lexer": "ipython3",
   "version": "3.7.2"
  }
 },
 "nbformat": 4,
 "nbformat_minor": 2
}
