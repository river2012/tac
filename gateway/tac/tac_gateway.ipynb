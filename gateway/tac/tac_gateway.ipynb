{
 "cells": [
  {
   "cell_type": "code",
   "execution_count": 4,
   "metadata": {},
   "outputs": [],
   "source": [
    "from datetime import datetime"
   ]
  },
  {
   "cell_type": "code",
   "execution_count": 2,
   "metadata": {},
   "outputs": [],
   "source": [
    "# 模拟_init_\n",
    "import sys\n",
    "sys.path.append('/root/projects/')"
   ]
  },
  {
   "cell_type": "code",
   "execution_count": 16,
   "metadata": {},
   "outputs": [],
   "source": [
    "#onMac\n",
    "import sys\n",
    "sys.path.append('~/GitHub/vnpyRiver/')"
   ]
  },
  {
   "cell_type": "code",
   "execution_count": 4,
   "metadata": {
    "code_folding": [
     0
    ],
    "collapsed": true
   },
   "outputs": [
    {
     "ename": "ImportError",
     "evalue": "No module named api.tac",
     "output_type": "error",
     "traceback": [
      "\u001b[0;31m---------------------------------------------------------------------------\u001b[0m",
      "\u001b[0;31mImportError\u001b[0m                               Traceback (most recent call last)",
      "\u001b[0;32m<ipython-input-4-1e13fe0c9318>\u001b[0m in \u001b[0;36m<module>\u001b[0;34m()\u001b[0m\n\u001b[0;32m----> 1\u001b[0;31m from api.tac import (\n\u001b[0m\u001b[1;32m      2\u001b[0m     \u001b[0mMdApi\u001b[0m\u001b[0;34m,\u001b[0m\u001b[0;34m\u001b[0m\u001b[0m\n\u001b[1;32m      3\u001b[0m     \u001b[0mTdApi\u001b[0m\u001b[0;34m,\u001b[0m\u001b[0;34m\u001b[0m\u001b[0m\n\u001b[1;32m      4\u001b[0m     \u001b[0mTAC_FTDC_EXID_CFFEX\u001b[0m\u001b[0;34m,\u001b[0m \u001b[0;31m#'0'\u001b[0m\u001b[0;34m\u001b[0m\u001b[0m\n\u001b[1;32m      5\u001b[0m     \u001b[0mTAC_FTDC_EXID_SHFE\u001b[0m\u001b[0;34m,\u001b[0m \u001b[0;31m#'1'\u001b[0m\u001b[0;34m\u001b[0m\u001b[0m\n",
      "\u001b[0;31mImportError\u001b[0m: No module named api.tac"
     ]
    }
   ],
   "source": [
    "from api.tac import (\n",
    "    MdApi,\n",
    "    TdApi,\n",
    "    TAC_FTDC_EXID_CFFEX, #'0'\n",
    "    TAC_FTDC_EXID_SHFE, #'1'\n",
    "    TAC_FTDC_EXID_DCE, #'2'\n",
    "    TAC_FTDC_EXID_ZCE, #'3'\n",
    "    TAC_FTDC_EXID_INE, #'4'\n",
    "    TAC_FTDC_PC_Futures, #'1'\n",
    "    TAC_FTDC_PC_Options, #'2'\n",
    "    TAC_FTDC_PC_Combination, #'3'\n",
    "    TAC_FTDC_PC_Spot, #'4'\n",
    "    TAC_FTDC_PC_EFP, #'5'\n",
    "    TAC_FTDC_PD_Net, #'1'\n",
    "    TAC_FTDC_PD_Long, #'2'\n",
    "    TAC_FTDC_PD_Short, #'3'\n",
    "    TAC_FTDC_PD_Covered, #'4'\n",
    "    TAC_FTDC_HF_Speculation, #'1'\n",
    "    TAC_FTDC_HF_Arbitrage, #'2'\n",
    "    TAC_FTDC_HF_Hedge, #'3'\n",
    "    TAC_FTDC_D_Buy, #'0'\n",
    "    TAC_FTDC_D_Sell, #'1'\n",
    "    TAC_FTDC_OST_AllTraded, #'0'\n",
    "    TAC_FTDC_OST_PartTradedQueueing, #'1'\n",
    "    TAC_FTDC_OST_PartTradedNotQueueing, #'2'\n",
    "    TAC_FTDC_OST_NoTradeQueueing, #'3'\n",
    "    TAC_FTDC_OST_NoTradeNotQueueing, #'4'\n",
    "    TAC_FTDC_OST_Canceled, #'5'\n",
    "    TAC_FTDC_PSD_Today, #'1'\n",
    "    TAC_FTDC_PSD_History, #'2'\n",
    "    TAC_FTDC_OPT_AnyPrice, #'1'\n",
    "    TAC_FTDC_OPT_LimitPrice, #'2'\n",
    "    TAC_FTDC_OF_Open, #'0'\n",
    "    TAC_FTDC_OF_Close, #'1'\n",
    "    TAC_FTDC_OF_CloseToday, #'3'\n",
    "    TAC_FTDC_OF_CloseYesterday, #'4'\n",
    "    TAC_FTDC_TC_GFD, #'0'\n",
    "    TAC_FTDC_TC_FAK, #'1'\n",
    "    TAC_FTDC_TC_FOK, #'2'\n",
    "    TAC_FTDC_VC_AV, #'1'\n",
    "    TAC_FTDC_VC_MV, #'2'\n",
    "    TAC_FTDC_VC_CV, #'3'\n",
    "    TAC_FTDC_AF_Delete, #'0'\n",
    "    TAC_FTDC_AF_Modify, #'3'\n",
    "    TAC_FTDC_IT_Normal, #'0'\n",
    "    TAC_FTDC_IT_CallOptions, #'1'\n",
    "    TAC_FTDC_IT_PutOptions, #'2'\n",
    "    TAC_FTDC_IT_STEP, #'3'\n",
    "    TAC_FTDC_IS_BeforeTrading, #'0'\n",
    "    TAC_FTDC_IS_NoTrading, #'1'\n",
    "    TAC_FTDC_IS_Continous, #'2'\n",
    "    TAC_FTDC_IS_AuctionOrdering, #'3'\n",
    "    TAC_FTDC_IS_AuctionBalance, #'4'\n",
    "    TAC_FTDC_IS_AuctionMatch, #'5'\n",
    "    TAC_FTDC_IS_Closed, #'6'\n",
    "    )"
   ]
  },
  {
   "cell_type": "code",
   "execution_count": 9,
   "metadata": {},
   "outputs": [
    {
     "ename": "ImportError",
     "evalue": "No module named constant",
     "output_type": "error",
     "traceback": [
      "\u001b[0;31m---------------------------------------------------------------------------\u001b[0m",
      "\u001b[0;31mImportError\u001b[0m                               Traceback (most recent call last)",
      "\u001b[0;32m<ipython-input-9-57264fa1aefa>\u001b[0m in \u001b[0;36m<module>\u001b[0;34m()\u001b[0m\n\u001b[0;32m----> 1\u001b[0;31m from vnpy.trader.constant import(\n\u001b[0m\u001b[1;32m      2\u001b[0m Direction)\n",
      "\u001b[0;31mImportError\u001b[0m: No module named constant"
     ]
    }
   ],
   "source": [
    "from vnpy.trader.constant import(\n",
    "Direction)"
   ]
  },
  {
   "cell_type": "code",
   "execution_count": 17,
   "metadata": {},
   "outputs": [
    {
     "ename": "ImportError",
     "evalue": "No module named constant",
     "output_type": "error",
     "traceback": [
      "\u001b[0;31m---------------------------------------------------------------------------\u001b[0m",
      "\u001b[0;31mImportError\u001b[0m                               Traceback (most recent call last)",
      "\u001b[0;32m<ipython-input-17-4a2b84448f69>\u001b[0m in \u001b[0;36m<module>\u001b[0;34m()\u001b[0m\n\u001b[0;32m----> 1\u001b[0;31m \u001b[0;32mfrom\u001b[0m \u001b[0mvnpy\u001b[0m\u001b[0;34m.\u001b[0m\u001b[0mtrader\u001b[0m\u001b[0;34m.\u001b[0m\u001b[0mconstant\u001b[0m \u001b[0;32mimport\u001b[0m \u001b[0mDirection\u001b[0m\u001b[0;34m\u001b[0m\u001b[0m\n\u001b[0m",
      "\u001b[0;31mImportError\u001b[0m: No module named constant"
     ]
    }
   ],
   "source": [
    "from vnpy.trader.constant import Direction"
   ]
  },
  {
   "cell_type": "code",
   "execution_count": 18,
   "metadata": {},
   "outputs": [],
   "source": [
    "import vnpy"
   ]
  },
  {
   "cell_type": "code",
   "execution_count": 20,
   "metadata": {},
   "outputs": [
    {
     "name": "stdout",
     "output_type": "stream",
     "text": [
      "Help on package vnpy.trader in vnpy:\n",
      "\n",
      "NAME\n",
      "    vnpy.trader - # encoding: UTF-8\n",
      "\n",
      "FILE\n",
      "    /Users/qiuhuisong/anaconda2/lib/python2.7/site-packages/vnpy-1.9.0-py2.7.egg/vnpy/trader/__init__.py\n",
      "\n",
      "PACKAGE CONTENTS\n",
      "    app (package)\n",
      "    gateway (package)\n",
      "    ico (package)\n",
      "    language (package)\n",
      "    uiBasicWidget\n",
      "    uiMainWindow\n",
      "    uiMainWindow0\n",
      "    uiQt\n",
      "    vtConstant\n",
      "    vtEngine\n",
      "    vtEvent\n",
      "    vtFunction\n",
      "    vtGateway\n",
      "    vtGlobal\n",
      "    vtObject\n",
      "    vtText\n",
      "\n",
      "\n"
     ]
    }
   ],
   "source": [
    "help(vnpy.trader)"
   ]
  },
  {
   "cell_type": "code",
   "execution_count": null,
   "metadata": {},
   "outputs": [],
   "source": []
  }
 ],
 "metadata": {
  "kernelspec": {
   "display_name": "Python 2",
   "language": "python",
   "name": "python2"
  },
  "language_info": {
   "codemirror_mode": {
    "name": "ipython",
    "version": 2
   },
   "file_extension": ".py",
   "mimetype": "text/x-python",
   "name": "python",
   "nbconvert_exporter": "python",
   "pygments_lexer": "ipython2",
   "version": "2.7.15"
  }
 },
 "nbformat": 4,
 "nbformat_minor": 2
}
