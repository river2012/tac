{
 "cells": [
  {
   "cell_type": "code",
   "execution_count": 17,
   "metadata": {},
   "outputs": [],
   "source": [
    "def get_print(file):\n",
    "    with open(file) as f:\n",
    "        line_dic = {}\n",
    "        for line in f:\n",
    "            lines = line.split(\" \")\n",
    "            lines2=[]\n",
    "            for i in lines:\n",
    "                if i:\n",
    "                    lines2.append(i.replace(';\\n',''))\n",
    "            line_dic[lines2[1]]=lines2[0]\n",
    "\n",
    "    for key in line_dic:\n",
    "        if line_dic[key]!='char':\n",
    "            print('data[\"{}\"] = task_data->{};'.format(key,key))\n",
    "        else:\n",
    "            print('data[\"{}\"] = toUtf(task_data->{});'.format(key,key))"
   ]
  },
  {
   "cell_type": "code",
   "execution_count": 18,
   "metadata": {},
   "outputs": [
    {
     "name": "stdout",
     "output_type": "stream",
     "text": [
      "data[\"InstrumentID[31]\"] = toUtf(task_data->InstrumentID[31]);\n",
      "data[\"ActionDay[9]\"] = toUtf(task_data->ActionDay[9]);\n",
      "data[\"UpdateTime[12]\"] = toUtf(task_data->UpdateTime[12]);\n",
      "data[\"UpdateMillisec\"] = task_data->UpdateMillisec;\n",
      "data[\"Volume\"] = task_data->Volume;\n",
      "data[\"LastPrice\"] = task_data->LastPrice;\n",
      "data[\"Turnover\"] = task_data->Turnover;\n",
      "data[\"OpenInterest\"] = task_data->OpenInterest;\n",
      "data[\"BidPrice1\"] = task_data->BidPrice1;\n",
      "data[\"BidVolume1\"] = task_data->BidVolume1;\n",
      "data[\"AskPrice1\"] = task_data->AskPrice1;\n",
      "data[\"AskVolume1;\"] = task_data->AskVolume1;;\n"
     ]
    }
   ],
   "source": [
    "file='/Users/qiuhuisong/Downloads/tem.txt'\n",
    "get_print(file)"
   ]
  },
  {
   "cell_type": "code",
   "execution_count": 19,
   "metadata": {},
   "outputs": [
    {
     "name": "stdout",
     "output_type": "stream",
     "text": [
      "data[\"InstrumentID[31]\"] = toUtf(task_data->InstrumentID[31]);\n",
      "data[\"ActionDay[9]\"] = toUtf(task_data->ActionDay[9]);\n",
      "data[\"UpdateTime[12]\"] = toUtf(task_data->UpdateTime[12]);\n",
      "data[\"UpdateMillisec\"] = task_data->UpdateMillisec;\n",
      "data[\"Volume\"] = task_data->Volume;\n",
      "data[\"LastPrice\"] = task_data->LastPrice;\n",
      "data[\"Turnover\"] = task_data->Turnover;\n",
      "data[\"OpenInterest\"] = task_data->OpenInterest;\n",
      "data[\"BidPrice1\"] = task_data->BidPrice1;\n",
      "data[\"BidVolume1\"] = task_data->BidVolume1;\n",
      "data[\"AskPrice1\"] = task_data->AskPrice1;\n",
      "data[\"AskVolume1\"] = task_data->AskVolume1;\n",
      "data[\"BidPrice2\"] = task_data->BidPrice2;\n",
      "data[\"BidVolume2\"] = task_data->BidVolume2;\n",
      "data[\"AskPrice2\"] = task_data->AskPrice2;\n",
      "data[\"AskVolume2\"] = task_data->AskVolume2;\n",
      "data[\"BidPrice3\"] = task_data->BidPrice3;\n",
      "data[\"BidVolume3\"] = task_data->BidVolume3;\n",
      "data[\"AskPrice3\"] = task_data->AskPrice3;\n",
      "data[\"AskVolume3\"] = task_data->AskVolume3;\n",
      "data[\"BidPrice4\"] = task_data->BidPrice4;\n",
      "data[\"BidVolume4\"] = task_data->BidVolume4;\n",
      "data[\"AskPrice4\"] = task_data->AskPrice4;\n",
      "data[\"AskVolume4\"] = task_data->AskVolume4;\n",
      "data[\"BidPrice5\"] = task_data->BidPrice5;\n",
      "data[\"BidVolume5\"] = task_data->BidVolume5;\n",
      "data[\"AskPrice5\"] = task_data->AskPrice5;\n",
      "data[\"AskVolume5;\"] = task_data->AskVolume5;;\n"
     ]
    }
   ],
   "source": [
    "get_print('/Users/qiuhuisong/Downloads/tem2.txt')"
   ]
  },
  {
   "cell_type": "code",
   "execution_count": 20,
   "metadata": {},
   "outputs": [
    {
     "name": "stdout",
     "output_type": "stream",
     "text": [
      "data[\"InstrumentID[8]\"] = toUtf(task_data->InstrumentID[8]);\n",
      "data[\"AskPrice1\"] = task_data->AskPrice1;\n",
      "data[\"AskVolume1\"] = task_data->AskVolume1;\n",
      "data[\"AskPrice2\"] = task_data->AskPrice2;\n",
      "data[\"AskVolume2\"] = task_data->AskVolume2;\n",
      "data[\"AskPrice3\"] = task_data->AskPrice3;\n",
      "data[\"AskVolume3\"] = task_data->AskVolume3;\n",
      "data[\"AskPrice4\"] = task_data->AskPrice4;\n",
      "data[\"AskVolume4\"] = task_data->AskVolume4;\n",
      "data[\"AskPrice5\"] = task_data->AskPrice5;\n",
      "data[\"AskVolume5\"] = task_data->AskVolume5;\n",
      "data[\"AskPrice6\"] = task_data->AskPrice6;\n",
      "data[\"AskVolume6\"] = task_data->AskVolume6;\n",
      "data[\"AskPrice7\"] = task_data->AskPrice7;\n",
      "data[\"AskVolume7\"] = task_data->AskVolume7;\n",
      "data[\"AskPrice8\"] = task_data->AskPrice8;\n",
      "data[\"AskVolume8\"] = task_data->AskVolume8;\n",
      "data[\"AskPrice9\"] = task_data->AskPrice9;\n",
      "data[\"AskVolume9\"] = task_data->AskVolume9;\n",
      "data[\"AskPrice10\"] = task_data->AskPrice10;\n",
      "data[\"AskVolume10\"] = task_data->AskVolume10;\n",
      "data[\"BidPrice1\"] = task_data->BidPrice1;\n",
      "data[\"BidVolume1\"] = task_data->BidVolume1;\n",
      "data[\"BidPrice2\"] = task_data->BidPrice2;\n",
      "data[\"BidVolume2\"] = task_data->BidVolume2;\n",
      "data[\"BidPrice3\"] = task_data->BidPrice3;\n",
      "data[\"BidVolume3\"] = task_data->BidVolume3;\n",
      "data[\"BidPrice4\"] = task_data->BidPrice4;\n",
      "data[\"BidVolume4\"] = task_data->BidVolume4;\n",
      "data[\"BidPrice5\"] = task_data->BidPrice5;\n",
      "data[\"BidVolume5\"] = task_data->BidVolume5;\n",
      "data[\"BidPrice6\"] = task_data->BidPrice6;\n",
      "data[\"BidVolume6\"] = task_data->BidVolume6;\n",
      "data[\"BidPrice7\"] = task_data->BidPrice7;\n",
      "data[\"BidVolume7\"] = task_data->BidVolume7;\n",
      "data[\"BidPrice8\"] = task_data->BidPrice8;\n",
      "data[\"BidVolume8\"] = task_data->BidVolume8;\n",
      "data[\"BidPrice9\"] = task_data->BidPrice9;\n",
      "data[\"BidVolume9\"] = task_data->BidVolume9;\n",
      "data[\"BidPrice10\"] = task_data->BidPrice10;\n",
      "data[\"BidVolume10;\"] = task_data->BidVolume10;;\n"
     ]
    }
   ],
   "source": [
    "get_print('/Users/qiuhuisong/Downloads/tem3.txt')"
   ]
  },
  {
   "cell_type": "code",
   "execution_count": null,
   "metadata": {},
   "outputs": [],
   "source": []
  }
 ],
 "metadata": {
  "kernelspec": {
   "display_name": "Python 3",
   "language": "python",
   "name": "python3"
  },
  "language_info": {
   "codemirror_mode": {
    "name": "ipython",
    "version": 3
   },
   "file_extension": ".py",
   "mimetype": "text/x-python",
   "name": "python",
   "nbconvert_exporter": "python",
   "pygments_lexer": "ipython3",
   "version": "3.7.2"
  }
 },
 "nbformat": 4,
 "nbformat_minor": 2
}
